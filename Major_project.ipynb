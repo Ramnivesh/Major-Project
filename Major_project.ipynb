{
 "cells": [
  {
   "cell_type": "code",
   "execution_count": 4,
   "id": "33da7a4a",
   "metadata": {},
   "outputs": [
    {
     "name": "stdout",
     "output_type": "stream",
     "text": [
      "Collecting opencv-python\n",
      "  Downloading opencv_python-4.5.4.58-cp38-cp38-win_amd64.whl (35.1 MB)\n",
      "Requirement already satisfied: numpy>=1.17.3 in d:\\installation drives\\lib\\site-packages (from opencv-python) (1.20.1)\n",
      "Installing collected packages: opencv-python\n",
      "Successfully installed opencv-python-4.5.4.58\n"
     ]
    }
   ],
   "source": [
    "!pip3 install opencv-python\n"
   ]
  },
  {
   "cell_type": "code",
   "execution_count": 5,
   "id": "62de44cd",
   "metadata": {},
   "outputs": [
    {
     "name": "stdout",
     "output_type": "stream",
     "text": [
      "Requirement already satisfied: numpy in d:\\installation drives\\lib\\site-packages (1.20.1)\n"
     ]
    }
   ],
   "source": [
    "!pip install numpy"
   ]
  },
  {
   "cell_type": "code",
   "execution_count": null,
   "id": "90a586b0",
   "metadata": {},
   "outputs": [],
   "source": [
    "import cv2\n",
    "\n",
    "import numpy as np\n",
    "\n",
    "from sklearn.metrics import pairwise\n",
    "\n",
    "cap = cv2.VideoCapture(0)\n",
    "\n",
    "#if jiggers are present other than yellow area\n",
    "\n",
    "kernelOpen = np.ones((5,5))\n",
    "\n",
    " #if jiggers are present in yellow area\n",
    "\n",
    "kernelClose = np.ones((20,20))\n",
    " #HSV color range which should be detected\n",
    "\n",
    "lb = np.array([20,100,100])\n",
    "\n",
    "ub = np.array([128,255,255])\n",
    "\n",
    "while True:\n",
    "    \n",
    "    rent, frame = cap.read()\n",
    "    \n",
    "    flipped = cv2.flip(frame, 1)\n",
    "    \n",
    "    flipped = cv2.resize(flipped,(500,400))\n",
    "    \n",
    "    #use HSV of yellow to detect only yellow color\n",
    "    \n",
    "    imgSeg = cv2.cvtColor (frame,cv2.COLOR_BGR2HSV) \n",
    "    \n",
    "    imgSegFlipped = cv2.flip(imgSeg, 1)\n",
    "    \n",
    "    imgSegFlipped = cv2.resize(imgSegFlipped, (500, 400))\n",
    "    \n",
    "    #masking and filtering all shades of yellow\n",
    "    \n",
    "    mask = cv2.inRange(imgSegFlipped, lb, ub) \n",
    "    \n",
    "    mask = cv2.resize(mask, (500, 400))\n",
    "    \n",
    "    #apply morphology to avoid jiggers\n",
    "    \n",
    "    maskOpen = cv2.morphologyEx(mask,cv2.MORPH_OPEN,kernelOpen)\n",
    "    \n",
    "    maskOpen = cv2.resize(maskOpen,(508,408))\n",
    "    \n",
    "    maskClose = cv2.morphologyEx(maskopen,cv2.MORPH_CLOSE,kernelClose) \n",
    "    \n",
    "    maskClose = cv2.resize(maskClose,(500, 400))\n",
    "    \n",
    "    final = maskClose\n",
    "    \n",
    "    conts, h= cv2.findContours(maskClose,cv2.RETR_EXTERNAL,cv2.CHAIN_APPROX_NONE)\n",
    "    \n",
    "    if(len(conts)!=0): \n",
    "        \n",
    "        #draws the contours of that object which has the highest\n",
    "        \n",
    "        b = max (conts, key=cv2.contourArea)\n",
    "        \n",
    "        west = tuple(b[b[:, :,0].argin()][0])\n",
    "        \n",
    "        east = tuple(b[b[:, :, ].argmax()][0]) \n",
    "        \n",
    "        #above for east ice right\n",
    "        \n",
    "        north = tuple(b[b[:, :, 1].argmin ()][0])\n",
    "        \n",
    "        south = tuple(b[b[:, :, 1].argmax()][e])\n",
    "        \n",
    "        centre_x = (vest[0]+east[0])/2\n",
    "        \n",
    "        centre_y = (north[0]+south[0])/2\n",
    "        \n",
    "        cv2.drawContours(flipped, b, -1, (0,255,0), 3)\n",
    "        \n",
    "        cv2.circle(flipped, west, 6, (0,0,255), -1)\n",
    "        \n",
    "        cv2.circle(flipped, east, 6, (0,0,255), -1)\n",
    "        \n",
    "        cv2.circle(flipped, north, 6, (0,0,255), -1)\n",
    "        \n",
    "        cv2.circle(flipped, south, 6, (0,0,255), -1)\n",
    "        \n",
    "        cv2.circle(flipped, (int(centre_x), int(centre_y)), 6, (255,0,0), -1)\n",
    "        \n",
    "        cv2.inshow(\"video\", flipped)\n",
    "        \n",
    "        #cv2.inshov(\"mask\", mask)\n",
    "        \n",
    "        #cv2.inshow(\"mask open', maskopen)\n",
    "        \n",
    "        #cv2.inshou (mask close', aaskClose)\n",
    "        \n",
    "        if cv2.waitkey(1) & 0xFF == ord(' '):\n",
    "            \n",
    "            #lexiting\n",
    "            \n",
    "            break\n",
    "            \n",
    "            \n",
    "cap.release()\n",
    "\n",
    "cv2.destroyAllWindows()\n",
    "\n"
   ]
  },
  {
   "cell_type": "code",
   "execution_count": null,
   "id": "c08d3eed",
   "metadata": {},
   "outputs": [],
   "source": []
  }
 ],
 "metadata": {
  "kernelspec": {
   "display_name": "Python 3",
   "language": "python",
   "name": "python3"
  },
  "language_info": {
   "codemirror_mode": {
    "name": "ipython",
    "version": 3
   },
   "file_extension": ".py",
   "mimetype": "text/x-python",
   "name": "python",
   "nbconvert_exporter": "python",
   "pygments_lexer": "ipython3",
   "version": "3.8.8"
  }
 },
 "nbformat": 4,
 "nbformat_minor": 5
}
